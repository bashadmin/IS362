{
 "cells": [
  {
   "cell_type": "markdown",
   "metadata": {},
   "source": [
    "# Week 13 Discussion "
   ]
  },
  {
   "cell_type": "markdown",
   "metadata": {},
   "source": [
    "## 1. Identify a recommender system web site, then"
   ]
  },
  {
   "cell_type": "markdown",
   "metadata": {},
   "source": [
    "Facebook was founded in 2004 and is an American online social media website, owned by Meta Platforms. As of 2020, Facebook claimed 2.8 billion monthly active users, and ranked fourth in global internet usage. Also, in 2010 it was one of the most downloaded mobile app. I chose it because of the social aspect has a lot of influential power, as a recommendation system, and people don't often think about how the company makes so much money through ads."
   ]
  },
  {
   "cell_type": "markdown",
   "metadata": {},
   "source": [
    "## 2. Answer the three scenario design questions for this web site:\n",
    "\n",
    "### Who are your target users?    "
   ]
  },
  {
   "cell_type": "markdown",
   "metadata": {},
   "source": [
    "Facebook can recommend personalized content to each of its users every single day. Either letting them know about events near by, or items/services to purchase."
   ]
  },
  {
   "cell_type": "markdown",
   "metadata": {},
   "source": [
    "### What are their key goals?"
   ]
  },
  {
   "cell_type": "markdown",
   "metadata": {},
   "source": [
    "Their key goals used to be to make the world more open and connected, now since they have enough users their aim is to give people the power to build communities, and get closer together."
   ]
  },
  {
   "cell_type": "markdown",
   "metadata": {},
   "source": [
    "### How can you help them accomplish those goals?"
   ]
  },
  {
   "cell_type": "markdown",
   "metadata": {},
   "source": [
    "Facebook uses not only one recommendation algorithm, but several ones for different sections. For example, the news feed uses one, whereas the “people you may know” section uses another. Similarly, the news section, marketplace, Facebook videos, etc. are different sections of Facebook, each of which will recommend different things based on your preferences. What I would like to do for them  is to study different aspects of their page, and try to find targets to study to make even more algorithms to increase engagement, such as activities in groups or spikes in responses to events."
   ]
  },
  {
   "cell_type": "markdown",
   "metadata": {},
   "source": [
    "Reference: \n",
    "- Gartenberg, C. (2019, March 8). What is Facebook? just ask Mark Zuckerberg. The Verge. Retrieved May 5, 2022, from https://www.theverge.com/2019/3/8/18255269/facebook-mark-zuckerberg-definition-social-media-network-sharing-privacy\n",
    "- Bhattarai, D. (2021, July 29). 5 companies making the most of recommendation systems. Leapfrog Technology. Retrieved May 5, 2022, from https://www.lftechnology.com/blog/recommendation-systems/ "
   ]
  }
 ],
 "metadata": {
  "kernelspec": {
   "display_name": "Python 3 (ipykernel)",
   "language": "python",
   "name": "python3"
  },
  "language_info": {
   "codemirror_mode": {
    "name": "ipython",
    "version": 3
   },
   "file_extension": ".py",
   "mimetype": "text/x-python",
   "name": "python",
   "nbconvert_exporter": "python",
   "pygments_lexer": "ipython3",
   "version": "3.10.2"
  }
 },
 "nbformat": 4,
 "nbformat_minor": 4
}
