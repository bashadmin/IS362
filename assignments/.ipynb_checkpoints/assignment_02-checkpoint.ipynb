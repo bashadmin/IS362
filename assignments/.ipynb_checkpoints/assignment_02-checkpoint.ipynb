{
 "cells": [
  {
   "cell_type": "markdown",
   "id": "b9f9b8de",
   "metadata": {},
   "source": [
    "# Assignment_02"
   ]
  },
  {
   "cell_type": "markdown",
   "id": "2968e29e",
   "metadata": {},
   "source": [
    "## Your week 2 assignment is to create a small Jupyter (IPython) Notebook about one aspect of data structures that you might find somewhat challenging, such as set comprehensions, or using the zip() function.  Your Jupyter Notebook should include both code and some documentation, which should utilize Markdown.  Your Jupyter Notebook should be hosted in GitHub; please provide a link in your assignment submission."
   ]
  },
  {
   "cell_type": "markdown",
   "id": "412053c0",
   "metadata": {},
   "source": [
    "`I always found remembering the dictionary methods difficult to remember.`"
   ]
  },
  {
   "cell_type": "markdown",
   "id": "14a3b564",
   "metadata": {},
   "source": [
    "`Here is some information on Datatypes that I found useful, along with with reference links`"
   ]
  },
  {
   "cell_type": "markdown",
   "id": "4926d566",
   "metadata": {},
   "source": [
    "#### Python Data types:\n",
    "\n",
    "*Scalar Types*\n",
    "\n",
    "int, float, bool (True or False) ,\n",
    "complex (number with a real and imaginary component represented as x + 2y)\n",
    "\n",
    "None: null object in Python. A None is returned by functions that don't explicitly return a value.\n",
    "\n",
    "\n",
    "*Collections*\n",
    "\n",
    "- List is a collection of one or more data types, which is ordered and changeable, put in square brackets. Allows duplicate members.\n",
    "- Tuple is a list constat\n",
    "- Dictionary is a collection which is ordered(3.7 onwards) and changeable, has key:value pairs, enclosed in curly brackets.  \n",
    "\n",
    "Unordered means that the items does not have a defined order, you cannot refer to an item by using an index.\n",
    "\n",
    "*Mutable and Immutable Types*\n",
    "\n",
    "Data objects of the above types are stored in a computer's memory for processing. Some of these values can be modified during processing, but contents of others can't be altered once they are created in the memory.\n",
    "\n",
    "Numbers, strings, and Tuples are immutable, which means their contents can't be altered after creation.\n",
    "Items in a List or Dictionary object can be modified. It is possible to add, delete, insert, and rearrange items in a list or dictionary. "
   ]
  },
  {
   "cell_type": "markdown",
   "id": "00639472",
   "metadata": {},
   "source": [
    "### Reference Links:\n",
    "[Python Dictionaries: A Comprehensive Tutorial](https://www.dataquest.io/blog/python-dictionaries/)<br>\n",
    "[All You Need to Know About Python Dictionaries](https://towardsdatascience.com/all-you-need-to-know-about-python-dictionaries-ccd05e5c61dd)"
   ]
  },
  {
   "cell_type": "code",
   "execution_count": null,
   "id": "c7719054",
   "metadata": {},
   "outputs": [],
   "source": []
  }
 ],
 "metadata": {
  "kernelspec": {
   "display_name": "Python 3 (ipykernel)",
   "language": "python",
   "name": "python3"
  },
  "language_info": {
   "codemirror_mode": {
    "name": "ipython",
    "version": 3
   },
   "file_extension": ".py",
   "mimetype": "text/x-python",
   "name": "python",
   "nbconvert_exporter": "python",
   "pygments_lexer": "ipython3",
   "version": "3.10.2"
  }
 },
 "nbformat": 4,
 "nbformat_minor": 5
}
