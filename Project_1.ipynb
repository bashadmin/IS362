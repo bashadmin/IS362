{
 "cells": [
  {
   "cell_type": "code",
   "execution_count": 1,
   "id": "a383b307",
   "metadata": {},
   "outputs": [],
   "source": [
    "import pandas as pd"
   ]
  },
  {
   "cell_type": "code",
   "execution_count": 14,
   "id": "de016032",
   "metadata": {},
   "outputs": [],
   "source": [
    "# Get data from csv file\n",
    "flight_data = pd.read_csv(\"~/Documents/Projects/SPS/IS362/DATA/project1_data.csv\")"
   ]
  },
  {
   "cell_type": "code",
   "execution_count": 15,
   "id": "ff82166b",
   "metadata": {},
   "outputs": [
    {
     "data": {
      "text/html": [
       "<div>\n",
       "<style scoped>\n",
       "    .dataframe tbody tr th:only-of-type {\n",
       "        vertical-align: middle;\n",
       "    }\n",
       "\n",
       "    .dataframe tbody tr th {\n",
       "        vertical-align: top;\n",
       "    }\n",
       "\n",
       "    .dataframe thead th {\n",
       "        text-align: right;\n",
       "    }\n",
       "</style>\n",
       "<table border=\"1\" class=\"dataframe\">\n",
       "  <thead>\n",
       "    <tr style=\"text-align: right;\">\n",
       "      <th></th>\n",
       "      <th>CityxAirport_table</th>\n",
       "      <th>AK_on_time</th>\n",
       "      <th>AK_delayed</th>\n",
       "      <th>AMW_on_time</th>\n",
       "      <th>AMW_delayed</th>\n",
       "    </tr>\n",
       "  </thead>\n",
       "  <tbody>\n",
       "    <tr>\n",
       "      <th>0</th>\n",
       "      <td>LA</td>\n",
       "      <td>497</td>\n",
       "      <td>62</td>\n",
       "      <td>694</td>\n",
       "      <td>117</td>\n",
       "    </tr>\n",
       "    <tr>\n",
       "      <th>1</th>\n",
       "      <td>Pho</td>\n",
       "      <td>221</td>\n",
       "      <td>12</td>\n",
       "      <td>4840</td>\n",
       "      <td>415</td>\n",
       "    </tr>\n",
       "    <tr>\n",
       "      <th>2</th>\n",
       "      <td>SD</td>\n",
       "      <td>212</td>\n",
       "      <td>20</td>\n",
       "      <td>383</td>\n",
       "      <td>65</td>\n",
       "    </tr>\n",
       "    <tr>\n",
       "      <th>3</th>\n",
       "      <td>SF</td>\n",
       "      <td>503</td>\n",
       "      <td>102</td>\n",
       "      <td>320</td>\n",
       "      <td>129</td>\n",
       "    </tr>\n",
       "    <tr>\n",
       "      <th>4</th>\n",
       "      <td>Sea</td>\n",
       "      <td>1841</td>\n",
       "      <td>30</td>\n",
       "      <td>201</td>\n",
       "      <td>61</td>\n",
       "    </tr>\n",
       "  </tbody>\n",
       "</table>\n",
       "</div>"
      ],
      "text/plain": [
       "  CityxAirport_table  AK_on_time  AK_delayed  AMW_on_time  AMW_delayed\n",
       "0                 LA         497          62          694          117\n",
       "1                Pho         221          12         4840          415\n",
       "2                 SD         212          20          383           65\n",
       "3                 SF         503         102          320          129\n",
       "4                Sea        1841          30          201           61"
      ]
     },
     "execution_count": 15,
     "metadata": {},
     "output_type": "execute_result"
    }
   ],
   "source": [
    "# First we view the dataset\n",
    "flight_data.head()"
   ]
  },
  {
   "cell_type": "code",
   "execution_count": 21,
   "id": "4edd43cd",
   "metadata": {},
   "outputs": [
    {
     "data": {
      "text/plain": [
       "CityxAirport_table    LAPhoSDSFSea\n",
       "AK_on_time                    3274\n",
       "AK_delayed                     226\n",
       "AMW_on_time                   6438\n",
       "AMW_delayed                    787\n",
       "dtype: object"
      ]
     },
     "execution_count": 21,
     "metadata": {},
     "output_type": "execute_result"
    }
   ],
   "source": [
    "# flight_data['AK_delay_ratio'] = []\n",
    "flight_data.sum()"
   ]
  },
  {
   "cell_type": "code",
   "execution_count": 37,
   "id": "70b86178",
   "metadata": {},
   "outputs": [],
   "source": [
    "# Figure out how often delayed flights compare to on time flights\n",
    "AK_ratio = 226 / 3274\n",
    "AMW_ratio = 787 / 6438"
   ]
  },
  {
   "cell_type": "code",
   "execution_count": 38,
   "id": "4d0960da",
   "metadata": {},
   "outputs": [],
   "source": [
    "# compare results\n",
    "result = ''\n",
    "def analysis():\n",
    "    if AK_ratio > AMW_ratio:\n",
    "        result = 'AMW is delayed less often.'\n",
    "    else: \n",
    "        result = 'AK is delayed less often.'\n",
    "    return result"
   ]
  },
  {
   "cell_type": "code",
   "execution_count": 39,
   "id": "5fd6c599",
   "metadata": {},
   "outputs": [
    {
     "data": {
      "text/plain": [
       "'AK is delayed less often.'"
      ]
     },
     "execution_count": 39,
     "metadata": {},
     "output_type": "execute_result"
    }
   ],
   "source": [
    "analysis()"
   ]
  },
  {
   "cell_type": "code",
   "execution_count": 35,
   "id": "55ac5522",
   "metadata": {},
   "outputs": [
    {
     "data": {
      "text/plain": [
       "'AK is delayed less often.'"
      ]
     },
     "execution_count": 35,
     "metadata": {},
     "output_type": "execute_result"
    }
   ],
   "source": []
  },
  {
   "cell_type": "code",
   "execution_count": 36,
   "id": "8a7baab2",
   "metadata": {},
   "outputs": [
    {
     "name": "stdout",
     "output_type": "stream",
     "text": [
      "\n"
     ]
    }
   ],
   "source": []
  },
  {
   "cell_type": "code",
   "execution_count": null,
   "id": "15b0c88e",
   "metadata": {},
   "outputs": [],
   "source": []
  }
 ],
 "metadata": {
  "kernelspec": {
   "display_name": "Python 3 (ipykernel)",
   "language": "python",
   "name": "python3"
  },
  "language_info": {
   "codemirror_mode": {
    "name": "ipython",
    "version": 3
   },
   "file_extension": ".py",
   "mimetype": "text/x-python",
   "name": "python",
   "nbconvert_exporter": "python",
   "pygments_lexer": "ipython3",
   "version": "3.10.2"
  }
 },
 "nbformat": 4,
 "nbformat_minor": 5
}
